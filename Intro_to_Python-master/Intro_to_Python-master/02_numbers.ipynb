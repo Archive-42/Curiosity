{
  "nbformat": 4,
  "nbformat_minor": 0,
  "metadata": {
    "colab": {
      "name": "02_numbers.ipynb",
      "provenance": [],
      "collapsed_sections": []
    },
    "kernelspec": {
      "name": "python3",
      "display_name": "Python 3"
    }
  },
  "cells": [
    {
      "cell_type": "markdown",
      "metadata": {
        "id": "GqOP27Nw7Ah0",
        "colab_type": "text"
      },
      "source": [
        "## Python Numbers\n",
        "Python has several built-in types for general programming. It also supports custom types known as Classes. Not all classes are technically Types as in Type Theory, but it is a good way to start thinking about them. A true Pythonista can create their own type and define what math means for that type. Basically, we can invent math. More on this in the classes module.\n",
        "\n",
        "In this section we will focus on the three most common types of numbers in Python:\n",
        "\n",
        "- Integer `int`: Python supports big integers - this is a colossal understatement. Python can handle an integer so big it takes all of your available RAM.\n",
        "\n",
        "- Float `float`: Python supports 64bit floating point approximation of real numbers.\n",
        "\n",
        "- Complex `complex`: Python supports Complex Numbers, like in most engineering fields the letter j is used in Python to distinguish values on the complex plane.\n",
        "\n",
        "```python\n",
        "my_int: int = 42\n",
        "my_float: float = 3.14159265359\n",
        "my_complex: complex = 2 + 3j\n",
        "\n",
        "print(my_int)\n",
        "print(my_float)\n",
        "print(my_complex)\n",
        "```\n",
        "\n",
        "```\n",
        "42\n",
        "3.14159265359\n",
        "(2+3j)\n",
        "```\n",
        "\n",
        "In the above example the colon and type name are optional, Python does not enforce these types! The type hints are for human readers, not Python. Future versions of Python may support strict typing.\n",
        "\n",
        "The code below is effectively the same as above.\n",
        "\n",
        "```python\n",
        "my_int = 42\n",
        "my_float = 3.14159265359\n",
        "my_complex = 2 + 3j\n",
        "\n",
        "print(my_int)\n",
        "print(my_float)\n",
        "print(my_complex)\n",
        "```\n",
        "\n",
        "```\n",
        "42\n",
        "3.14159265359\n",
        "(2+3j)\n",
        "```\n"
      ]
    },
    {
      "cell_type": "code",
      "metadata": {
        "id": "TQSJgQ1yKGPR",
        "colab_type": "code",
        "colab": {}
      },
      "source": [
        ""
      ],
      "execution_count": 0,
      "outputs": []
    }
  ]
}