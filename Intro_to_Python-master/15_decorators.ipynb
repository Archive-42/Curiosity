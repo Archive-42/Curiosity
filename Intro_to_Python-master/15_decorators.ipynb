{
 "cells": [
  {
   "cell_type": "markdown",
   "metadata": {
    "colab_type": "text",
    "id": "UzAZL23Vw7eo"
   },
   "source": [
    "# Decorators\n",
    "\n",
    "- Function Decorator\n",
    "- Class Decorator\n",
    "\n",
    "Decorators allow us to modify existing classes or functions without redefining them.\n",
    "\n",
    "- [Practical decorators | YouTube.com](https://youtu.be/MjHpMCIvwsY) Reuven M. Lerner"
   ]
  },
  {
   "cell_type": "markdown",
   "metadata": {
    "colab_type": "text",
    "id": "C_UEDVdPO-Bx"
   },
   "source": [
    "## Function Decorator\n",
    "\n",
    "The `@wraps` decorator helps by copying the meta data of our function so that the decorated version works properly with the help system: `help(some_function)` will be the same as `help(some_decorated_function)`.\n",
    "\n",
    "### Logger Example"
   ]
  },
  {
   "cell_type": "code",
   "execution_count": 0,
   "metadata": {
    "colab": {},
    "colab_type": "code",
    "id": "bRu-50v7w2QJ"
   },
   "outputs": [],
   "source": [
    "from functools import wraps\n",
    "from inspect import signature\n",
    "\n",
    "\n",
    "def logger(func):\n",
    "    \"\"\" Function Decorator for Logging \"\"\"\n",
    "\n",
    "    @wraps(func)  # preserves meta data of the func\n",
    "    def wrapper(*args, **kwargs):\n",
    "        result = func(*args, **kwargs)\n",
    "        arg_obj = signature(func).bind(*args, **kwargs).arguments.items()\n",
    "        print(f\"LOG: {func.__name__}\", end='(')\n",
    "        print(', '.join(f'{k}={v}' for k, v in arg_obj), end=') ')\n",
    "        print(f\"is {result}\")\n",
    "        return result\n",
    "\n",
    "    return wrapper"
   ]
  },
  {
   "cell_type": "markdown",
   "metadata": {
    "colab_type": "text",
    "id": "0wMBINGnlhV8"
   },
   "source": [
    "### Logger Usage"
   ]
  },
  {
   "cell_type": "code",
   "execution_count": 0,
   "metadata": {
    "colab": {},
    "colab_type": "code",
    "id": "1MF2pNGyQm_Y"
   },
   "outputs": [],
   "source": [
    "# Before: No Logging\n",
    "def mul(x, y):\n",
    "    \"\"\" Multiplies x by y. \"\"\"\n",
    "    return x * y\n",
    "\n",
    "var = mul(2, 3)"
   ]
  },
  {
   "cell_type": "code",
   "execution_count": 0,
   "metadata": {
    "colab": {},
    "colab_type": "code",
    "id": "f8ojKH1_kRM0"
   },
   "outputs": [],
   "source": [
    "# Nothing Printed"
   ]
  },
  {
   "cell_type": "code",
   "execution_count": 0,
   "metadata": {
    "colab": {
     "base_uri": "https://localhost:8080/",
     "height": 68
    },
    "colab_type": "code",
    "id": "oDQ_2ckKQvEA",
    "outputId": "96e74160-2e40-448d-8c52-fada1cc2e040"
   },
   "outputs": [
    {
     "name": "stdout",
     "output_type": "stream",
     "text": [
      "LOG: mul(x=2, y=3) is 6\n",
      "LOG: mul(x=4, y=3) is 12\n",
      "LOG: mul(x=6, y=5) is 30\n"
     ]
    }
   ],
   "source": [
    "# After: Logging Enabled\n",
    "@logger\n",
    "def mul(x, y):\n",
    "    \"\"\" Multiplies x by y. \"\"\"\n",
    "    return x * y\n",
    "\n",
    "var1 = mul(2, 3)\n",
    "var2 = mul(4, y=3)\n",
    "var3 = mul(x=6, y=5)"
   ]
  },
  {
   "cell_type": "markdown",
   "metadata": {
    "colab_type": "text",
    "id": "RJlHpwD5XQbM"
   },
   "source": [
    "#### Help with `@wraps` decorator.\n",
    "```python\n",
    "help(mul)\n",
    "```\n",
    "```\n",
    "Help on function mul in module __main__:\n",
    "\n",
    "mul(x, y)\n",
    "    Multiplies x by y.\n",
    "```"
   ]
  },
  {
   "cell_type": "markdown",
   "metadata": {
    "colab_type": "text",
    "id": "CbhwMG0uXIRG"
   },
   "source": [
    "#### Help without `@wraps` decorator.\n",
    "```python\n",
    "help(mul)\n",
    "```\n",
    "```\n",
    "Help on function wrapper in module __main__:\n",
    "\n",
    "wrapper(*args)\n",
    "    # @wraps(func)\n",
    "```"
   ]
  },
  {
   "cell_type": "markdown",
   "metadata": {
    "colab_type": "text",
    "id": "IpNN2jT4PB1p"
   },
   "source": [
    "## Function Decorator Class\n",
    "### Function Cache: Memoization Example"
   ]
  },
  {
   "cell_type": "code",
   "execution_count": 0,
   "metadata": {
    "colab": {},
    "colab_type": "code",
    "id": "6Zn6xdmUPIw3"
   },
   "outputs": [],
   "source": [
    "import pickle\n",
    "\n",
    "\n",
    "class Cache:\n",
    "    \"\"\" Function Cache \"\"\"\n",
    "\n",
    "    def __init__(self, function):\n",
    "        self.cache = {}\n",
    "        self.function = function\n",
    "        self.__doc__ = function.__doc__\n",
    "\n",
    "    def __call__(self, *args, **kwargs):\n",
    "        key = (pickle.dumps(args), pickle.dumps(kwargs))\n",
    "        if key in self.cache:\n",
    "            result = self.cache[key]\n",
    "        else:\n",
    "            result = self.cache[key] = self.function(*args, **kwargs)\n",
    "            print(f\"Cached Value: {result}\")\n",
    "        return result\n"
   ]
  },
  {
   "cell_type": "code",
   "execution_count": 0,
   "metadata": {
    "colab": {
     "base_uri": "https://localhost:8080/",
     "height": 255
    },
    "colab_type": "code",
    "id": "-Q1eHolJxKPi",
    "outputId": "2a25d50b-ab2d-4fb3-ebe3-592b88c8c24a"
   },
   "outputs": [
    {
     "name": "stdout",
     "output_type": "stream",
     "text": [
      "Cached Value: 1\n",
      "Cached Value: 1\n",
      "Cached Value: 2\n",
      "Cached Value: 3\n",
      "Cached Value: 5\n",
      "Cached Value: 8\n",
      "Cached Value: 13\n",
      "Cached Value: 21\n",
      "Cached Value: 34\n",
      "Cached Value: 55\n",
      "55\n",
      "Cached Value: 89\n",
      "Cached Value: 144\n",
      "144\n"
     ]
    }
   ],
   "source": [
    "@Cache\n",
    "def fib(n):\n",
    "    \"\"\" Recursive Fibonacci \"\"\"\n",
    "    return 1 if n < 3 else fib(n - 1) + fib(n - 2)\n",
    "\n",
    "\n",
    "print(fib(10))\n",
    "print(fib(12))  # Notice the cache only caches new values."
   ]
  },
  {
   "cell_type": "code",
   "execution_count": 0,
   "metadata": {
    "colab": {},
    "colab_type": "code",
    "id": "3laVKHaZ5HCw"
   },
   "outputs": [],
   "source": []
  }
 ],
 "metadata": {
  "colab": {
   "collapsed_sections": [],
   "name": "15_decorators.ipynb",
   "provenance": []
  },
  "kernelspec": {
   "display_name": "Python 3",
   "language": "python",
   "name": "python3"
  },
  "language_info": {
   "codemirror_mode": {
    "name": "ipython",
    "version": 3
   },
   "file_extension": ".py",
   "mimetype": "text/x-python",
   "name": "python",
   "nbconvert_exporter": "python",
   "pygments_lexer": "ipython3",
   "version": "3.8.0"
  }
 },
 "nbformat": 4,
 "nbformat_minor": 1
}
