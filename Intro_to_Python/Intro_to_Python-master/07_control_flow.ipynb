{
  "nbformat": 4,
  "nbformat_minor": 0,
  "metadata": {
    "colab": {
      "name": "07_control_flow.ipynb",
      "provenance": [],
      "collapsed_sections": []
    },
    "kernelspec": {
      "name": "python3",
      "display_name": "Python 3"
    }
  },
  "cells": [
    {
      "cell_type": "markdown",
      "metadata": {
        "id": "Q9DyqPTDFMLd",
        "colab_type": "text"
      },
      "source": [
        "# Control Flow\n",
        "\n",
        "There are three basic types of control flow operation; Branch, Iteration and Jump. The most powerful of the three is Jump. In the early days of programming we used a dark art known as goto to jump from one section of code to another. Programming is more civilized now, instead of goto we use the invocation of a functor for that same behavior. Functions will be covered in the next module.\n",
        "\n",
        "- Branch\n",
        "- Iteration\n",
        "- Jump: see Functor"
      ]
    },
    {
      "cell_type": "markdown",
      "metadata": {
        "id": "RCM96s7ZFO99",
        "colab_type": "text"
      },
      "source": [
        "## Branch\n",
        "\n",
        "[Python random.choice | python.org](https://docs.python.org/3/library/random.html#random.choice)"
      ]
    },
    {
      "cell_type": "code",
      "metadata": {
        "id": "gQjLtI8OJLPP",
        "colab_type": "code",
        "colab": {}
      },
      "source": [
        "import random"
      ],
      "execution_count": 0,
      "outputs": []
    },
    {
      "cell_type": "code",
      "metadata": {
        "id": "VP3J4F42EUNr",
        "colab_type": "code",
        "outputId": "13569632-4849-43d7-fe1e-9228317db9bc",
        "colab": {
          "base_uri": "https://localhost:8080/",
          "height": 34
        }
      },
      "source": [
        "animal = random.choice((\"Cat\", \"Dog\", \"Bug\"))\n",
        "\n",
        "if animal == \"Cat\":\n",
        "    print(\"Mew\")\n",
        "elif animal == \"Dog\":\n",
        "    print(\"Wuf\")\n",
        "else:\n",
        "    print(\"Buz\")"
      ],
      "execution_count": 2,
      "outputs": [
        {
          "output_type": "stream",
          "text": [
            "Buz\n"
          ],
          "name": "stdout"
        }
      ]
    },
    {
      "cell_type": "code",
      "metadata": {
        "id": "Zpqfi5DL2vI8",
        "colab_type": "code",
        "colab": {
          "base_uri": "https://localhost:8080/",
          "height": 34
        },
        "outputId": "f1f00915-470c-4969-c3cb-14093fd0a547"
      },
      "source": [
        "print(\"heads\" if random.randint(0, 1) == 1 else \"tails\")"
      ],
      "execution_count": 3,
      "outputs": [
        {
          "output_type": "stream",
          "text": [
            "tails\n"
          ],
          "name": "stdout"
        }
      ]
    },
    {
      "cell_type": "markdown",
      "metadata": {
        "id": "pRm9R5afFJoW",
        "colab_type": "text"
      },
      "source": [
        "## Iteration\n",
        "\n",
        "- [Python While Loop | python.org](https://wiki.python.org/moin/WhileLoop)\n",
        "- [Python For Loop | python.org](https://wiki.python.org/moin/ForLoop)"
      ]
    },
    {
      "cell_type": "markdown",
      "metadata": {
        "id": "Ou0oSJtX1oKE",
        "colab_type": "text"
      },
      "source": [
        "### Loop Counter"
      ]
    },
    {
      "cell_type": "code",
      "metadata": {
        "id": "05vWgD58Efp8",
        "colab_type": "code",
        "outputId": "d9338d3c-b323-4136-93a1-a77b178ab6e8",
        "colab": {
          "base_uri": "https://localhost:8080/",
          "height": 34
        }
      },
      "source": [
        "counter = 0\n",
        "\n",
        "while True:\n",
        "    if counter >= 42:\n",
        "        break\n",
        "    else:\n",
        "        counter += 1\n",
        "\n",
        "print(counter)"
      ],
      "execution_count": 4,
      "outputs": [
        {
          "output_type": "stream",
          "text": [
            "42\n"
          ],
          "name": "stdout"
        }
      ]
    },
    {
      "cell_type": "markdown",
      "metadata": {
        "id": "hGHXX4haGQrw",
        "colab_type": "text"
      },
      "source": [
        "### Range Based For Loop"
      ]
    },
    {
      "cell_type": "markdown",
      "metadata": {
        "id": "TgXGVKQn3imf",
        "colab_type": "text"
      },
      "source": [
        "[Python Range Sequence | python.org](https://docs.python.org/3/library/stdtypes.html#ranges)"
      ]
    },
    {
      "cell_type": "code",
      "metadata": {
        "id": "cZRbBqUXEroN",
        "colab_type": "code",
        "outputId": "244c0a73-7399-4de2-8d3c-d7472c817b8e",
        "colab": {
          "base_uri": "https://localhost:8080/",
          "height": 187
        }
      },
      "source": [
        "for num in range(10):\n",
        "    print(num * 10)    "
      ],
      "execution_count": 5,
      "outputs": [
        {
          "output_type": "stream",
          "text": [
            "0\n",
            "10\n",
            "20\n",
            "30\n",
            "40\n",
            "50\n",
            "60\n",
            "70\n",
            "80\n",
            "90\n"
          ],
          "name": "stdout"
        }
      ]
    },
    {
      "cell_type": "markdown",
      "metadata": {
        "id": "F_1gy6I6G6Su",
        "colab_type": "text"
      },
      "source": [
        "### For Each Loop"
      ]
    },
    {
      "cell_type": "code",
      "metadata": {
        "id": "H4LOBOGHGZjU",
        "colab_type": "code",
        "outputId": "3e41a8e3-0366-4f97-a3c1-65edf096f038",
        "colab": {
          "base_uri": "https://localhost:8080/",
          "height": 102
        }
      },
      "source": [
        "some_list = [\n",
        "    \"Alpha\",\n",
        "    \"Beta\",\n",
        "    \"Gamma\",\n",
        "    \"Delta\",\n",
        "    \"Zeta\",\n",
        "]\n",
        "\n",
        "for itm in some_list:\n",
        "    print(itm)"
      ],
      "execution_count": 6,
      "outputs": [
        {
          "output_type": "stream",
          "text": [
            "Alpha\n",
            "Beta\n",
            "Gamma\n",
            "Delta\n",
            "Zeta\n"
          ],
          "name": "stdout"
        }
      ]
    },
    {
      "cell_type": "markdown",
      "metadata": {
        "id": "VlCZ47wTHQXL",
        "colab_type": "text"
      },
      "source": [
        "### Enumeration"
      ]
    },
    {
      "cell_type": "code",
      "metadata": {
        "id": "NMCmVmZcG4Vg",
        "colab_type": "code",
        "outputId": "e7f37e95-22cb-4370-e933-5228325abb08",
        "colab": {
          "base_uri": "https://localhost:8080/",
          "height": 102
        }
      },
      "source": [
        "for idx, val in enumerate(some_list):\n",
        "    print(idx, val)"
      ],
      "execution_count": 7,
      "outputs": [
        {
          "output_type": "stream",
          "text": [
            "0 Alpha\n",
            "1 Beta\n",
            "2 Gamma\n",
            "3 Delta\n",
            "4 Zeta\n"
          ],
          "name": "stdout"
        }
      ]
    },
    {
      "cell_type": "code",
      "metadata": {
        "id": "NpYClglpHZBL",
        "colab_type": "code",
        "colab": {}
      },
      "source": [
        ""
      ],
      "execution_count": 0,
      "outputs": []
    }
  ]
}