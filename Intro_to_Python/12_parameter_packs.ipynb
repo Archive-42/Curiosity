{
  "nbformat": 4,
  "nbformat_minor": 0,
  "metadata": {
    "colab": {
      "name": "12_parameter_packs.ipynb",
      "provenance": [],
      "collapsed_sections": []
    },
    "kernelspec": {
      "name": "python3",
      "display_name": "Python 3"
    }
  },
  "cells": [
    {
      "cell_type": "markdown",
      "metadata": {
        "id": "pQszVuZuvsms",
        "colab_type": "text"
      },
      "source": [
        "# Parameter Packs\n",
        "\n",
        "- Star Args: `*some_sequence`\n",
        "- Star Star Key Wargs: `**some_dictionary`\n",
        "- Keyword Only Arguments"
      ]
    },
    {
      "cell_type": "markdown",
      "metadata": {
        "id": "OAxl2l8ndAGV",
        "colab_type": "text"
      },
      "source": [
        "## Star Args\n",
        "\n",
        "Let's say we have a function that takes `*args` as its only argument. Let's also say that we have a sequence of values that we would like to pass to this function. The function is expecting several input arguments, but it wants them individually, and not as a sequence. How do we unpack a sequence into its constituent parts? Obviously we could solve this by changing the function so that it takes a sequence, but lets say we can't do that - maybe the function is in a library that we do not control."
      ]
    },
    {
      "cell_type": "code",
      "metadata": {
        "id": "qBCpzYHIvbP9",
        "colab_type": "code",
        "colab": {}
      },
      "source": [
        "def some_func(*args):\n",
        "    return sum(args)"
      ],
      "execution_count": 0,
      "outputs": []
    },
    {
      "cell_type": "code",
      "metadata": {
        "id": "VHKY5lypdd00",
        "colab_type": "code",
        "outputId": "3c1bdeed-94ca-436d-b96a-d29c7d8b4d5f",
        "colab": {
          "base_uri": "https://localhost:8080/",
          "height": 34
        }
      },
      "source": [
        "param_pack = (2, 5, 10)\n",
        "\n",
        "print(some_func(*param_pack))"
      ],
      "execution_count": 0,
      "outputs": [
        {
          "output_type": "stream",
          "text": [
            "17\n"
          ],
          "name": "stdout"
        }
      ]
    },
    {
      "cell_type": "markdown",
      "metadata": {
        "id": "vs9svhRQfrdP",
        "colab_type": "text"
      },
      "source": [
        "## Star Star Key Wargs\n",
        "\n",
        "This same idea can be extended to dictionaries and a functions that take `**kwargs` as input. We just use two stars. A single star would give us a sequence of keys, but two stars will give us the key-value pairs we're looking for."
      ]
    },
    {
      "cell_type": "code",
      "metadata": {
        "id": "eSmkZSqrdjDo",
        "colab_type": "code",
        "colab": {}
      },
      "source": [
        "def print_name_age(**kwargs):\n",
        "    for name, age in kwargs.items():\n",
        "        print(name, age)"
      ],
      "execution_count": 0,
      "outputs": []
    },
    {
      "cell_type": "code",
      "metadata": {
        "id": "wZrvB9ZsgLO8",
        "colab_type": "code",
        "outputId": "8a35da01-db40-403c-a44d-60abec7d9d51",
        "colab": {
          "base_uri": "https://localhost:8080/",
          "height": 85
        }
      },
      "source": [
        "named_params = {\n",
        "    \"Joe\": 42,\n",
        "    \"Jim\": 73,\n",
        "    \"Jane\": 21,\n",
        "    \"Kim\": 84,\n",
        "}\n",
        "\n",
        "print_name_age(**named_params)"
      ],
      "execution_count": 0,
      "outputs": [
        {
          "output_type": "stream",
          "text": [
            "Joe 42\n",
            "Jim 73\n",
            "Jane 21\n",
            "Kim 84\n"
          ],
          "name": "stdout"
        }
      ]
    },
    {
      "cell_type": "markdown",
      "metadata": {
        "id": "uu7KFM3AiGo_",
        "colab_type": "text"
      },
      "source": [
        "## Keyword Only Arguments\n",
        "\n",
        "Lets say we want to design a function that takes a keyword-only argument. The reason we might want to do this is to reduce the likelihood of our users sending arguments in the wrong order. This can be handy for functions that have a variety of valid calling signatures. First a simple example:"
      ]
    },
    {
      "cell_type": "code",
      "metadata": {
        "id": "98yIZNWoirBa",
        "colab_type": "code",
        "colab": {}
      },
      "source": [
        "def keyword_only(*, magic_word):\n",
        "    print(magic_word)"
      ],
      "execution_count": 0,
      "outputs": []
    },
    {
      "cell_type": "markdown",
      "metadata": {
        "id": "JIi0-CGNjMKK",
        "colab_type": "text"
      },
      "source": [
        "```\n",
        "keyword_only(\"alpha\")\n",
        "```\n",
        "This doesn't work!\n",
        "```\n",
        "TypeError: keyword_only() takes 0 positional arguments but 1 was given\n",
        "```"
      ]
    },
    {
      "cell_type": "code",
      "metadata": {
        "id": "X-1deRtwjAOl",
        "colab_type": "code",
        "outputId": "2dbb761c-1fe8-4a41-b9a0-b131c58d922b",
        "colab": {
          "base_uri": "https://localhost:8080/",
          "height": 34
        }
      },
      "source": [
        "keyword_only(magic_word=\"Alacasam\")"
      ],
      "execution_count": 0,
      "outputs": [
        {
          "output_type": "stream",
          "text": [
            "Alacasam\n"
          ],
          "name": "stdout"
        }
      ]
    },
    {
      "cell_type": "markdown",
      "metadata": {
        "id": "wYa_mXFRl4_A",
        "colab_type": "text"
      },
      "source": [
        "### Complex Example\n",
        "\n",
        "Below we have a function that can take an unbounded number of positional arguments plus one keyword argument `name`. It will sum the positional args and output a tuple - the total and a greeting. This is a contrived example but I hope you can see the power this gives the function designer. It allows us to disambiguate potentionally hazardous calling signatures. \n",
        "\n",
        "Note that the keyword-only argument must come after the star args in the function definition. If instead if we put the name parameter first it would be a positional argument - and therefore it would be optional and easily confussed with our other arguments."
      ]
    },
    {
      "cell_type": "code",
      "metadata": {
        "id": "wdBBGFjPjFx5",
        "colab_type": "code",
        "colab": {}
      },
      "source": [
        "def nums_n_name(*nums, name):\n",
        "    return sum(nums), f\"Hello, {name}\""
      ],
      "execution_count": 0,
      "outputs": []
    },
    {
      "cell_type": "code",
      "metadata": {
        "id": "LqlAy8bGm9xw",
        "colab_type": "code",
        "outputId": "45f18459-1ed3-458d-b42d-b57ae5f441a9",
        "colab": {
          "base_uri": "https://localhost:8080/",
          "height": 34
        }
      },
      "source": [
        "print(nums_n_name(1, 2, 3, 4, name=\"Yoda\"))"
      ],
      "execution_count": 0,
      "outputs": [
        {
          "output_type": "stream",
          "text": [
            "(10, 'Hello, Yoda')\n"
          ],
          "name": "stdout"
        }
      ]
    }
  ]
}