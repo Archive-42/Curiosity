{
  "nbformat": 4,
  "nbformat_minor": 0,
  "metadata": {
    "colab": {
      "name": "06_associative_array.ipynb",
      "provenance": [],
      "collapsed_sections": []
    },
    "kernelspec": {
      "name": "python3",
      "display_name": "Python 3"
    }
  },
  "cells": [
    {
      "cell_type": "markdown",
      "metadata": {
        "id": "t0o-UFob81CR",
        "colab_type": "text"
      },
      "source": [
        "# Dictionary: Ordered Associative Array\n",
        "\n",
        "Dictionaries are also known as hashtables. The keys of a dictionary must be hashable. The values may be any type of object (including lambda, list, string or even another dictionary).\n",
        "\n",
        "[Python Dictionaries | python.org](https://docs.python.org/3.8/library/stdtypes.html?highlight=dict%20type#mapping-types-dict)"
      ]
    },
    {
      "cell_type": "code",
      "metadata": {
        "id": "wQC6g2mP8urX",
        "colab_type": "code",
        "outputId": "1c9c0d0e-c487-4e3c-d2fd-c2880b27c706",
        "colab": {
          "base_uri": "https://localhost:8080/",
          "height": 34
        }
      },
      "source": [
        "my_dictionary = {\n",
        "    \"alpha\": 1,\n",
        "    \"beta\": 2,\n",
        "    \"gamma\": 3,\n",
        "    \"zeta\": 42,\n",
        "}\n",
        "\n",
        "print(my_dictionary)"
      ],
      "execution_count": 1,
      "outputs": [
        {
          "output_type": "stream",
          "text": [
            "{'alpha': 1, 'beta': 2, 'gamma': 3, 'zeta': 42}\n"
          ],
          "name": "stdout"
        }
      ]
    },
    {
      "cell_type": "markdown",
      "metadata": {
        "id": "iJ5HV3hltPI-",
        "colab_type": "text"
      },
      "source": [
        "### Reading an item:\n",
        "\n",
        "While the first example below is a bit more Pythonic, the second one is far more common. The `.get()` method will return `None` if the key does not exit in the dictionary. The second example will raise a KeyError instead."
      ]
    },
    {
      "cell_type": "code",
      "metadata": {
        "id": "uCQHunMAtSCe",
        "colab_type": "code",
        "colab": {
          "base_uri": "https://localhost:8080/",
          "height": 34
        },
        "outputId": "bbd803ac-1e5f-473b-fafa-928589562fb2"
      },
      "source": [
        "a = my_dictionary.get(\"alpha\")\n",
        "print(\"a is\", a)"
      ],
      "execution_count": 2,
      "outputs": [
        {
          "output_type": "stream",
          "text": [
            "a is 1\n"
          ],
          "name": "stdout"
        }
      ]
    },
    {
      "cell_type": "markdown",
      "metadata": {
        "id": "R_nWwc0KwINu",
        "colab_type": "text"
      },
      "source": [
        "or..."
      ]
    },
    {
      "cell_type": "code",
      "metadata": {
        "id": "XmLAbpZPwJvd",
        "colab_type": "code",
        "colab": {
          "base_uri": "https://localhost:8080/",
          "height": 34
        },
        "outputId": "4ed257fa-8706-45ed-de9c-d99a068cb001"
      },
      "source": [
        "b = my_dictionary[\"beta\"]\n",
        "print(\"b is\", b)"
      ],
      "execution_count": 3,
      "outputs": [
        {
          "output_type": "stream",
          "text": [
            "b is 2\n"
          ],
          "name": "stdout"
        }
      ]
    },
    {
      "cell_type": "markdown",
      "metadata": {
        "id": "q9-OoAx4Pfqv",
        "colab_type": "text"
      },
      "source": [
        "### Adding an item:"
      ]
    },
    {
      "cell_type": "code",
      "metadata": {
        "id": "rahcNMThPSoO",
        "colab_type": "code",
        "outputId": "afc88220-8c78-43dc-f2ac-3fa9cc2c2c19",
        "colab": {
          "base_uri": "https://localhost:8080/",
          "height": 34
        }
      },
      "source": [
        "my_dictionary[\"delta\"] = 4\n",
        "print(my_dictionary)"
      ],
      "execution_count": 4,
      "outputs": [
        {
          "output_type": "stream",
          "text": [
            "{'alpha': 1, 'beta': 2, 'gamma': 3, 'zeta': 42, 'delta': 4}\n"
          ],
          "name": "stdout"
        }
      ]
    },
    {
      "cell_type": "markdown",
      "metadata": {
        "id": "-LK67XGqPmxp",
        "colab_type": "text"
      },
      "source": [
        "### Removing an item:"
      ]
    },
    {
      "cell_type": "code",
      "metadata": {
        "id": "c446cSW5Pvus",
        "colab_type": "code",
        "outputId": "9f75ed90-201b-4e4a-b607-4c3642e14375",
        "colab": {
          "base_uri": "https://localhost:8080/",
          "height": 51
        }
      },
      "source": [
        "z = my_dictionary.pop(\"zeta\")\n",
        "\n",
        "print(\"z is\", z)\n",
        "print(my_dictionary)"
      ],
      "execution_count": 5,
      "outputs": [
        {
          "output_type": "stream",
          "text": [
            "z is 42\n",
            "{'alpha': 1, 'beta': 2, 'gamma': 3, 'delta': 4}\n"
          ],
          "name": "stdout"
        }
      ]
    },
    {
      "cell_type": "markdown",
      "metadata": {
        "id": "zD7pB86vP-cr",
        "colab_type": "text"
      },
      "source": [
        "### Printing the Keys and Values:"
      ]
    },
    {
      "cell_type": "code",
      "metadata": {
        "id": "Ho-qZJ0W9WBx",
        "colab_type": "code",
        "outputId": "94f44f9d-8454-4c4b-daa2-fb3764cef94d",
        "colab": {
          "base_uri": "https://localhost:8080/",
          "height": 51
        }
      },
      "source": [
        "dict_keys = my_dictionary.keys()\n",
        "dict_vals = my_dictionary.values()\n",
        "\n",
        "print(dict_keys)\n",
        "print(dict_vals)"
      ],
      "execution_count": 6,
      "outputs": [
        {
          "output_type": "stream",
          "text": [
            "dict_keys(['alpha', 'beta', 'gamma', 'delta'])\n",
            "dict_values([1, 2, 3, 4])\n"
          ],
          "name": "stdout"
        }
      ]
    },
    {
      "cell_type": "markdown",
      "metadata": {
        "id": "wIl6VWK-OpAj",
        "colab_type": "text"
      },
      "source": [
        "## Dictionary Iteration\n",
        "\n",
        "The following is only possible because dictionaries are now ordered - since Python 3.6. They maintain the order you give them, if you add an item, it is added to the end of the dictionary. In previous versions of Python, dictionaries were not ordered, in fact - they were randomized."
      ]
    },
    {
      "cell_type": "markdown",
      "metadata": {
        "id": "cqmg-8pPVEc4",
        "colab_type": "text"
      },
      "source": [
        "Printing Keys Only"
      ]
    },
    {
      "cell_type": "code",
      "metadata": {
        "id": "6-ixLWOnMilk",
        "colab_type": "code",
        "outputId": "a3c05fa4-723e-43b9-fb79-b6e3d3b428ea",
        "colab": {
          "base_uri": "https://localhost:8080/",
          "height": 85
        }
      },
      "source": [
        "for key in my_dictionary.keys():\n",
        "    print(key)"
      ],
      "execution_count": 7,
      "outputs": [
        {
          "output_type": "stream",
          "text": [
            "alpha\n",
            "beta\n",
            "gamma\n",
            "delta\n"
          ],
          "name": "stdout"
        }
      ]
    },
    {
      "cell_type": "markdown",
      "metadata": {
        "id": "CnXZc-HnVINV",
        "colab_type": "text"
      },
      "source": [
        "Printing Values Only"
      ]
    },
    {
      "cell_type": "code",
      "metadata": {
        "id": "rg2-9tAHMt3r",
        "colab_type": "code",
        "outputId": "b0897f3e-999a-4cfb-9ac6-6f4bfd504652",
        "colab": {
          "base_uri": "https://localhost:8080/",
          "height": 85
        }
      },
      "source": [
        "for value in my_dictionary.values():\n",
        "    print(value)"
      ],
      "execution_count": 8,
      "outputs": [
        {
          "output_type": "stream",
          "text": [
            "1\n",
            "2\n",
            "3\n",
            "4\n"
          ],
          "name": "stdout"
        }
      ]
    },
    {
      "cell_type": "markdown",
      "metadata": {
        "id": "1Ea1SCEeVKjC",
        "colab_type": "text"
      },
      "source": [
        "Printing Keys and Values with Formatting"
      ]
    },
    {
      "cell_type": "code",
      "metadata": {
        "id": "0QK_DeTZMzPC",
        "colab_type": "code",
        "outputId": "871d54c2-9f25-4fd3-92a8-403236cebe10",
        "colab": {
          "base_uri": "https://localhost:8080/",
          "height": 85
        }
      },
      "source": [
        "for key, val in my_dictionary.items():\n",
        "    print(f\"{key}: {val}\")"
      ],
      "execution_count": 9,
      "outputs": [
        {
          "output_type": "stream",
          "text": [
            "alpha: 1\n",
            "beta: 2\n",
            "gamma: 3\n",
            "delta: 4\n"
          ],
          "name": "stdout"
        }
      ]
    },
    {
      "cell_type": "markdown",
      "metadata": {
        "id": "eIt4srmoRK_J",
        "colab_type": "text"
      },
      "source": [
        "### Dictionary Comprehension"
      ]
    },
    {
      "cell_type": "code",
      "metadata": {
        "id": "DmfRfPIxPGkl",
        "colab_type": "code",
        "outputId": "0f6d0fe4-e80a-4863-a396-ea38c6ec4e34",
        "colab": {
          "base_uri": "https://localhost:8080/",
          "height": 34
        }
      },
      "source": [
        "char = ('a', 'b', 'c', 'd', 'e', 'f')\n",
        "nums = ( 0,   1,   2,   3,   4,   5 )\n",
        "\n",
        "dict_comp = {k: v for k, v in zip(char, nums)}\n",
        "\n",
        "print(dict_comp)"
      ],
      "execution_count": 10,
      "outputs": [
        {
          "output_type": "stream",
          "text": [
            "{'a': 0, 'b': 1, 'c': 2, 'd': 3, 'e': 4, 'f': 5}\n"
          ],
          "name": "stdout"
        }
      ]
    }
  ]
}