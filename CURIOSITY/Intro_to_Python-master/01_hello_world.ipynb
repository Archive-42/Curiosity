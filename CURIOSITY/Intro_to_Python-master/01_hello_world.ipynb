{
  "nbformat": 4,
  "nbformat_minor": 0,
  "metadata": {
    "colab": {
      "name": "01_hello_world.ipynb",
      "provenance": [],
      "collapsed_sections": []
    },
    "kernelspec": {
      "name": "python3",
      "display_name": "Python 3"
    }
  },
  "cells": [
    {
      "cell_type": "markdown",
      "metadata": {
        "id": "vw6G3xPpa9Me",
        "colab_type": "text"
      },
      "source": [
        "# Simple Python I/O\n",
        "The most common I/O functions in Python are `input()` and `print()`. These are not the only I/O functions in Python. The Python `input()` function will print a prompt and then wait for text from the user. The function then returns the text. The Python `print()` function will output text to the terminal. It is similar to the `printf()` function in C or `console.log()` in JavaScript."
      ]
    },
    {
      "cell_type": "markdown",
      "metadata": {
        "id": "QoWlhHWwbImm",
        "colab_type": "text"
      },
      "source": [
        "## Terminal Output\n",
        "In Python, almost everything is printable by default, without conversion. Strings, Numbers, Sequences, Booleans, Dictionaries, Sets and many other classes of objects can be printed with no special syntax. Print does not have a return value, we simply call the function. A Class instance can be printed properly iff the Class has a `__str__` and/or `__repr__` method. More on Classes will be found in the Classes notebook. Expressions can be printed directly, iff it resolves to a printable value. Expression Example: `print(2 + 4 * 8)`\n",
        "\n",
        "The following code prints `Hello, Python!` to the terminal."
      ]
    },
    {
      "cell_type": "code",
      "metadata": {
        "id": "PVu_jDeqbMca",
        "colab_type": "code",
        "colab": {
          "base_uri": "https://localhost:8080/",
          "height": 34
        },
        "outputId": "dfd26cab-655a-4154-ac86-6a36ca88d423"
      },
      "source": [
        "print(\"Hello, Python!\")"
      ],
      "execution_count": 1,
      "outputs": [
        {
          "output_type": "stream",
          "text": [
            "Hello, Python!\n"
          ],
          "name": "stdout"
        }
      ]
    },
    {
      "cell_type": "markdown",
      "metadata": {
        "id": "3RYUiLfu0TIF",
        "colab_type": "text"
      },
      "source": [
        "#### Separator Examples:\n",
        "\n",
        "The print function can take an unbounded number of arguments. We can separate these items with the `sep` keyword argument. The `sep` value must be a string. See the examples below..."
      ]
    },
    {
      "cell_type": "code",
      "metadata": {
        "id": "-TQDTYCP0cJj",
        "colab_type": "code",
        "outputId": "214ef06e-4ee7-4ed9-f6fa-30206687f9e4",
        "colab": {
          "base_uri": "https://localhost:8080/",
          "height": 119
        }
      },
      "source": [
        "print(\"Alpha\", \"Beta\", \"Gamma\")            # By default sep=' '\n",
        "print(\"Alpha\", \"Beta\", \"Gamma\", sep=\", \")  # Comma and space\n",
        "print(\"Alpha\", \"Beta\", \"Gamma\", sep=\"\\t\")  # Tab\n",
        "print(\"Alpha\", \"Beta\", \"Gamma\", sep=\"\\n\")  # New line"
      ],
      "execution_count": 2,
      "outputs": [
        {
          "output_type": "stream",
          "text": [
            "Alpha Beta Gamma\n",
            "Alpha, Beta, Gamma\n",
            "Alpha\tBeta\tGamma\n",
            "Alpha\n",
            "Beta\n",
            "Gamma\n"
          ],
          "name": "stdout"
        }
      ]
    },
    {
      "cell_type": "markdown",
      "metadata": {
        "id": "OZcbv-8ab0wd",
        "colab_type": "text"
      },
      "source": [
        "## Terminal Input\n",
        "Input from `input()` is always read\n",
        "as text (even numbers!), more specifically it's a string, aka `str` type.\n",
        "The text from the user becomes the output (return value) of the input function.\n",
        "The return value of any function can be assigned to a variable.\n",
        "\n",
        "The follwing code prints `What's your name? ` and waits for input from the user. Then it stores the user input into the `name` variable as a string."
      ]
    },
    {
      "cell_type": "code",
      "metadata": {
        "id": "Y9BfybTyayV7",
        "colab_type": "code",
        "colab": {
          "base_uri": "https://localhost:8080/",
          "height": 34
        },
        "outputId": "da5aadda-7d1e-4995-8c6f-3acc81da2e67"
      },
      "source": [
        "name = input(\"What's your name? \")"
      ],
      "execution_count": 3,
      "outputs": [
        {
          "output_type": "stream",
          "text": [
            "What's your name? John Smith\n"
          ],
          "name": "stdout"
        }
      ]
    },
    {
      "cell_type": "markdown",
      "metadata": {
        "id": "QgRdGcZNeZZ0",
        "colab_type": "text"
      },
      "source": [
        "The next line of code will print the greeting."
      ]
    },
    {
      "cell_type": "code",
      "metadata": {
        "id": "tsBBzU8VcTsc",
        "colab_type": "code",
        "colab": {
          "base_uri": "https://localhost:8080/",
          "height": 34
        },
        "outputId": "11411f3f-99b5-47c1-bdce-56b90744c191"
      },
      "source": [
        "print(\"Hello,\", name)"
      ],
      "execution_count": 4,
      "outputs": [
        {
          "output_type": "stream",
          "text": [
            "Hello, John Smith\n"
          ],
          "name": "stdout"
        }
      ]
    },
    {
      "cell_type": "markdown",
      "metadata": {
        "id": "sx7NUIWNhXVS",
        "colab_type": "text"
      },
      "source": [
        "## Run Your Python Script\n",
        "\n",
        "First, navigate to the directory holding your script, then type the following:\n",
        "\n",
        "```\n",
        "$ python3 A01_hello_world.py\n",
        "```\n",
        "\n",
        "The `$` above represents the shell prompt, yours may look different. You should only copy the code that follows it. In other words: you never need to type the `$` prompt. If the terminal prompt instead looks like this... \n",
        "```\n",
        ">>> \n",
        "```\n",
        "Then you are currently in the Python REPL. First exit the REPL with the `exit()` function, then run your script.\n",
        "\n",
        "### Your first script should resemble the following:\n",
        "\n",
        "```python\n",
        "# File Name: A01_hello_world.py\n",
        "\"\"\"\n",
        "Author: <Your Name>\n",
        "Team: <Your Team>\n",
        "Date: <Today>\n",
        "\"\"\"\n",
        "\n",
        "name = input(\"What's your name? \")\n",
        "print(\"Hello,\", name)\n",
        "```\n",
        "\n",
        "The first few lines of this script are comments. The first line is a single-line comment - marked by the `#` symbol. It is followed by a multi-line comment - indicated by the triple quotes before and after the text. Comments will be correctly ignored by Python. More info on comments to come later. For now, it is good enough to know that code comments are specifically for the human readers of your code, including future you.\n"
      ]
    },
    {
      "cell_type": "code",
      "metadata": {
        "id": "PwIA6MYVuuNs",
        "colab_type": "code",
        "colab": {}
      },
      "source": [
        ""
      ],
      "execution_count": 0,
      "outputs": []
    }
  ]
}