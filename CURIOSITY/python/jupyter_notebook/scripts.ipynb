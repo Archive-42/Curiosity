{
 "cells": [
  {
   "cell_type": "code",
   "execution_count": 1,
   "metadata": {},
   "outputs": [],
   "source": [
    "import random"
   ]
  },
  {
   "cell_type": "code",
   "execution_count": 59,
   "metadata": {},
   "outputs": [
    {
     "name": "stdout",
     "output_type": "stream",
     "text": [
      "Expected output: [0, 10, 1, 11, 2, 12, 3, 13, 4, 14, 5, 15, 6, 16, 7, 17, 8, 18, 9, 19]\n",
      "Actual output: [0, 10, 1, 11, 2, 12, 3, 13, 4, 14, 5, 15, 6, 16, 7, 17, 8, 18, 9, 19]\n"
     ]
    }
   ],
   "source": [
    "'''\n",
    "The familiar riffle shuffle of a deck of cards (or in our case, \n",
    "of a sequence of things) results in a new configuration of cards \n",
    "in which the top card is followed by the middle card, then by the\n",
    "second card, then the card after the middle, and so forth. \n",
    "Assuming the deck (sequence) contains an even number of cards, \n",
    "write a list comprehension that produces the shuffled sequence.\n",
    "\n",
    "Hint: To write this as a single comprehension, you may find the \n",
    "expression k%2, which evaluates to 0 on even numbers and 1 on odd \n",
    "numbers, to be useful. Consider how you can use the 0 or 1 returned \n",
    "by k%2 to alternatively access the beginning and the middle of the \n",
    "list.\n",
    "'''\n",
    "\n",
    "def riffle(deck):\n",
    "    \"\"\"Produces a single, perfect riffle shuffle of DECK, consisting of\n",
    "       DECK[0], DECK[M], DECK[1], DECK[M+1], ... where M is position of the\n",
    "       second half of the deck.  Assume that len(DECK) is even.\n",
    "       >>> riffle([3, 4, 5, 6])\n",
    "       [3, 5, 4, 6]\n",
    "        >>> riffle(range(20))\n",
    "        [0, 10, 1, 11, 2, 12, 3, 13, 4, 14, 5, 15, 6, 16, 7, 17, 8, 18, 9, 19]\n",
    "    \"\"\"\n",
    "    middle = len(deck)//2\n",
    "    ret = [deck[0], deck[middle]]\n",
    "    for i in range(1, len(deck) - middle):\n",
    "        ret.append(deck[i])\n",
    "        ret.append(deck[middle + i])\n",
    "    \n",
    "    return ret\n",
    "\n",
    "# Test Case\n",
    "print(\"Expected output: [0, 10, 1, 11, 2, 12, 3, 13, 4, 14, 5, 15, 6, 16, 7, 17, 8, 18, 9, 19]\")\n",
    "print(\"Actual output:\", riffle(range(20)))"
   ]
  },
  {
   "cell_type": "code",
   "execution_count": 12,
   "metadata": {},
   "outputs": [
    {
     "data": {
      "text/plain": [
       "[0, 1, 2, 3, 4, 5, 6, 7, 8, 9, 10, 11, 12, 13, 14, 15, 16, 17, 18, 19]"
      ]
     },
     "execution_count": 12,
     "metadata": {},
     "output_type": "execute_result"
    }
   ],
   "source": [
    "list(range(20))"
   ]
  },
  {
   "cell_type": "code",
   "execution_count": 86,
   "metadata": {},
   "outputs": [
    {
     "name": "stdout",
     "output_type": "stream",
     "text": [
      "[0, 10, 2, 12, 4, 14, 6, 16, 8, 18]\n"
     ]
    }
   ],
   "source": [
    "# using list comprehension\n",
    "def riffle(deck):\n",
    "    return [deck[i] if i%2 == 0 else deck[i+len(deck)//2 - 1] for i in range(0, len(deck) - len(deck)//2)]\n",
    "    \n",
    "    \n",
    "print(riffle(range(20)))"
   ]
  },
  {
   "cell_type": "code",
   "execution_count": null,
   "metadata": {},
   "outputs": [],
   "source": [
    "def build_successors_table(tokens):\n",
    "    \"\"\"Return a dictionary: keys are words; values are lists of successors.\n",
    "\n",
    "    >>> text = ['We', 'came', 'to', 'investigate', ',', 'catch', 'bad', 'guys', 'and', 'to', 'eat', 'pie', '.']\n",
    "    >>> table = build_successors_table(text)\n",
    "    >>> sorted(table)\n",
    "    [',', '.', 'We', 'and', 'bad', 'came', 'catch', 'eat', 'guys', 'investigate', 'pie', 'to']\n",
    "    >>> table['to']\n",
    "    ['investigate', 'eat']\n",
    "    >>> table['pie']\n",
    "    ['.']\n",
    "    >>> table['.']\n",
    "    ['We']\n",
    "    \"\"\"\n",
    "    table = {}\n",
    "    prev = '.'\n",
    "    for word in tokens:\n",
    "#         if prev not in table:\n",
    "#             table[prev] = []\n",
    "        table.setdefault(prev, [])  # another approach\n",
    "        table[prev].append(word)\n",
    "        prev = word\n",
    "    return table\n",
    "\n",
    "text = ['We', 'came', 'to', 'investigate', ',', 'catch', 'bad', 'guys', 'and', 'to', 'eat', 'pie', '.']\n",
    "table = build_successors_table(text)\n",
    "print(sorted(table))\n",
    "print(table['to'])\n",
    "print(table['.'])"
   ]
  },
  {
   "cell_type": "code",
   "execution_count": 41,
   "metadata": {},
   "outputs": [
    {
     "data": {
      "text/plain": [
       "{'.': ['We'],\n",
       " 'We': ['came'],\n",
       " 'came': ['to'],\n",
       " 'to': ['investigate', 'eat'],\n",
       " 'investigate': [','],\n",
       " ',': ['catch'],\n",
       " 'catch': ['bad'],\n",
       " 'bad': ['guys'],\n",
       " 'guys': ['and'],\n",
       " 'and': ['to'],\n",
       " 'eat': ['pie'],\n",
       " 'pie': ['.']}"
      ]
     },
     "execution_count": 41,
     "metadata": {},
     "output_type": "execute_result"
    }
   ],
   "source": [
    "table"
   ]
  },
  {
   "cell_type": "code",
   "execution_count": 15,
   "metadata": {},
   "outputs": [],
   "source": [
    "d = [(n, n+1) for n in range(10)]"
   ]
  },
  {
   "cell_type": "code",
   "execution_count": 16,
   "metadata": {},
   "outputs": [
    {
     "data": {
      "text/plain": [
       "[(0, 1),\n",
       " (1, 2),\n",
       " (2, 3),\n",
       " (3, 4),\n",
       " (4, 5),\n",
       " (5, 6),\n",
       " (6, 7),\n",
       " (7, 8),\n",
       " (8, 9),\n",
       " (9, 10)]"
      ]
     },
     "execution_count": 16,
     "metadata": {},
     "output_type": "execute_result"
    }
   ],
   "source": [
    "d"
   ]
  },
  {
   "cell_type": "code",
   "execution_count": 12,
   "metadata": {},
   "outputs": [
    {
     "name": "stdout",
     "output_type": "stream",
     "text": [
      "u uu u\n"
     ]
    }
   ],
   "source": [
    "def shift_vowels(word):    \n",
    "    vowels_lower = \"aeiou\"\n",
    "    vowels_upper = \"AEIOU\"\n",
    "\n",
    "    # get the count of each vowel\n",
    "    count = {}\n",
    "    for letter in word:\n",
    "        if letter.lower() in vowels_lower:\n",
    "            count.setdefault(letter, 0)\n",
    "            count[letter] += 1\n",
    "    \n",
    "    # build the shift dictionary\n",
    "    shift_dict = {}\n",
    "    for case in (vowels_lower, vowels_upper):\n",
    "        for letter in case:\n",
    "            if letter in count:\n",
    "                if (case.index(letter) + count[letter] >= 5):\n",
    "                    shift_dict[letter] = case[abs((case.index(letter) + count[letter]) - 5)]\n",
    "                else:\n",
    "                    shift_dict[letter] = case[case.index(letter) + count[letter]]\n",
    "                \n",
    "    # shift the word\n",
    "    shifted_word = \"\"\n",
    "    for letter in word:\n",
    "        if letter in shift_dict:\n",
    "            shifted_word += shift_dict[letter]\n",
    "\n",
    "        else:\n",
    "            shifted_word += letter\n",
    "            \n",
    "    return shifted_word\n",
    "\n",
    "print(shift_vowels(\"a aa a\"))"
   ]
  },
  {
   "cell_type": "code",
   "execution_count": 58,
   "metadata": {},
   "outputs": [
    {
     "name": "stdout",
     "output_type": "stream",
     "text": [
      "hillaa, ond, oo\n",
      "hillUu\n",
      "hillUaa\n"
     ]
    }
   ],
   "source": [
    "# Have a function that shifts vowels. Trying to develop it further...\n",
    "\n",
    "\n",
    "# If a vowel is repeated multiple times the vowel is shifted by multiple steps.\n",
    "# The number of steps is equal to the number of repeated vowels.\n",
    "# For instance, “mood” becomes “maad”.\n",
    "# helloo -> hillaa\n",
    "def shift_vowels(word):\n",
    "    vowels_lower = \"aeiou\"\n",
    "    vowels_upper = \"AEIOU\"\n",
    "\n",
    "    # get the count of each vowel\n",
    "    count = {}\n",
    "    for letter in word:\n",
    "        if letter in vowels_lower or letter in vowels_upper :\n",
    "            count.setdefault(letter, 0)\n",
    "            count[letter] += 1\n",
    "\n",
    "    wlist = list(word)\n",
    "    for i in range(len(wlist)):\n",
    "        if wlist[i] in vowels_lower:\n",
    "            wlist[i] = vowels_lower[(vowels_lower.index(wlist[i]) + count[wlist[i]]) % 5]\n",
    "        elif wlist[i] in vowels_upper:\n",
    "            wlist[i] = vowels_upper[(vowels_upper.index(wlist[i]) + count[wlist[i]]) % 5]\n",
    "\n",
    "    return ''.join(wlist)\n",
    "    \n",
    "    \n",
    "print(shift_vowels(\"helloo, and, aa\"))\n",
    "print(shift_vowels(\"hellOo\"))\n",
    "print(shift_vowels(\"hellOoo\"))"
   ]
  },
  {
   "cell_type": "code",
   "execution_count": 140,
   "metadata": {},
   "outputs": [
    {
     "name": "stdout",
     "output_type": "stream",
     "text": [
      "eoIe\n"
     ]
    }
   ],
   "source": [
    "# version 3\n",
    "def shift_vowels(word):    \n",
    "    vowels_lower = \"aeiou\"\n",
    "    vowels_upper = \"AEIOU\"\n",
    "    shifted_word = \"\"\n",
    "    seen = []\n",
    "    \n",
    "    # get the count of each vowel\n",
    "    for text in word.split():\n",
    "        count = {}\n",
    "        for letter in text:\n",
    "            if letter.lower() in vowels_lower:\n",
    "                count.setdefault(letter, 0)\n",
    "                count[letter] += 1               \n",
    "\n",
    "        # build the shift dictionary\n",
    "        shift_dict = {}\n",
    "        for case in (vowels_lower, vowels_upper):\n",
    "            for letter in case:\n",
    "                if letter in count:\n",
    "                    if (case.index(letter) + count[letter] >= 5):\n",
    "                        shift_dict[letter] = case[abs((case.index(letter) + count[letter]) - 5)]\n",
    "                    else:\n",
    "                        shift_dict[letter] = case[case.index(letter) + count[letter]]\n",
    "    \n",
    "        shifted_let = \"\".join([char for char in list(shift_dict.values())])\n",
    "        \n",
    "        shifted_word += shifted_let * count[list(shift_dict.keys())[0]]\n",
    "    \n",
    "    return shifted_word\n",
    "    \n",
    "print(shift_vowels(\"a, AiA a\"))"
   ]
  },
  {
   "cell_type": "code",
   "execution_count": null,
   "metadata": {},
   "outputs": [],
   "source": []
  }
 ],
 "metadata": {
  "kernelspec": {
   "display_name": "gis",
   "language": "python",
   "name": "gis"
  },
  "language_info": {
   "codemirror_mode": {
    "name": "ipython",
    "version": 3
   },
   "file_extension": ".py",
   "mimetype": "text/x-python",
   "name": "python",
   "nbconvert_exporter": "python",
   "pygments_lexer": "ipython3",
   "version": "3.7.6"
  },
  "toc": {
   "base_numbering": 1,
   "nav_menu": {},
   "number_sections": true,
   "sideBar": true,
   "skip_h1_title": false,
   "title_cell": "Table of Contents",
   "title_sidebar": "Contents",
   "toc_cell": false,
   "toc_position": {},
   "toc_section_display": true,
   "toc_window_display": false
  },
  "varInspector": {
   "cols": {
    "lenName": 16,
    "lenType": 16,
    "lenVar": 40
   },
   "kernels_config": {
    "python": {
     "delete_cmd_postfix": "",
     "delete_cmd_prefix": "del ",
     "library": "var_list.py",
     "varRefreshCmd": "print(var_dic_list())"
    },
    "r": {
     "delete_cmd_postfix": ") ",
     "delete_cmd_prefix": "rm(",
     "library": "var_list.r",
     "varRefreshCmd": "cat(var_dic_list()) "
    }
   },
   "types_to_exclude": [
    "module",
    "function",
    "builtin_function_or_method",
    "instance",
    "_Feature"
   ],
   "window_display": false
  }
 },
 "nbformat": 4,
 "nbformat_minor": 4
}
