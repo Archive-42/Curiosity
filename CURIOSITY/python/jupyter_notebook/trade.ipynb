{
 "cells": [
  {
   "cell_type": "code",
   "execution_count": 80,
   "metadata": {},
   "outputs": [
    {
     "name": "stdout",
     "output_type": "stream",
     "text": [
      "{'ABY0111': 83.20999999999998, 'ALB0331': 75.41, 'ALB1101': 75.32, 'APS0111': 89.78, 'ARA2201': 74.66, 'ARG1101': 86.69000000000001, 'ARI1101': 82.27000000000001, 'ARI1102': 75.99000000000001, 'ASB0661': 82.71999999999998, 'ASY0111': 80.28000000000002, 'ATI2201': 91.63, 'ATU1101': 70.10000000000001, 'AVI2201': 94.64000000000001, 'BAL0331': 74.38, 'BDE0111': 78.25999999999999, 'BEN2201': 81.69000000000001, 'BEN2202': 79.21, 'BLN0331': 71.27999999999999, 'BOB0331': 90.46, 'BOB1101': 75.07999999999998}\n"
     ]
    }
   ],
   "source": [
    "import pandas as pd\n",
    "def merge_info(filename1, filename2):\n",
    "    # using with statement\n",
    "    # no need to explicitly state the file.close()\n",
    "\n",
    "    actual = pd.read_csv(filename1)\n",
    "    predicted = pd.read_csv(filename2)    \n",
    "        \n",
    "\n",
    "    # convert prices to decimal\n",
    "    actual[\"Price\"] = pd.to_numeric(actual[\"Price\"])\n",
    "    predicted[\"Price\"] = pd.to_numeric(predicted[\"Price\"])\n",
    "    \n",
    "    errors = {}\n",
    "    \n",
    "    for act, pred in zip(actual.itertuples(), predicted.itertuples()):\n",
    "        if act.Trading_date == pred.Trading_date:\n",
    "            error = pred.Price - act.Price \n",
    "            errors.setdefault(act.Node, error)\n",
    "            \n",
    "    \n",
    "    return errors\n",
    "    \n",
    "\n",
    "fn1 = \"actual.txt\"\n",
    "fn2 = \"predicted.txt\"\n",
    "\n",
    "print(merge_info(fn1, fn2))"
   ]
  },
  {
   "cell_type": "code",
   "execution_count": null,
   "metadata": {},
   "outputs": [],
   "source": []
  }
 ],
 "metadata": {
  "kernelspec": {
   "display_name": "Python 3",
   "language": "python",
   "name": "python3"
  },
  "language_info": {
   "codemirror_mode": {
    "name": "ipython",
    "version": 3
   },
   "file_extension": ".py",
   "mimetype": "text/x-python",
   "name": "python",
   "nbconvert_exporter": "python",
   "pygments_lexer": "ipython3",
   "version": "3.7.6"
  },
  "toc": {
   "base_numbering": 1,
   "nav_menu": {},
   "number_sections": true,
   "sideBar": true,
   "skip_h1_title": false,
   "title_cell": "Table of Contents",
   "title_sidebar": "Contents",
   "toc_cell": false,
   "toc_position": {},
   "toc_section_display": true,
   "toc_window_display": false
  },
  "varInspector": {
   "cols": {
    "lenName": 16,
    "lenType": 16,
    "lenVar": 40
   },
   "kernels_config": {
    "python": {
     "delete_cmd_postfix": "",
     "delete_cmd_prefix": "del ",
     "library": "var_list.py",
     "varRefreshCmd": "print(var_dic_list())"
    },
    "r": {
     "delete_cmd_postfix": ") ",
     "delete_cmd_prefix": "rm(",
     "library": "var_list.r",
     "varRefreshCmd": "cat(var_dic_list()) "
    }
   },
   "types_to_exclude": [
    "module",
    "function",
    "builtin_function_or_method",
    "instance",
    "_Feature"
   ],
   "window_display": false
  }
 },
 "nbformat": 4,
 "nbformat_minor": 4
}
